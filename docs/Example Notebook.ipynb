{
 "cells": [
  {
   "cell_type": "code",
   "execution_count": 1,
   "id": "97212661",
   "metadata": {},
   "outputs": [],
   "source": [
    "from bw_olca import olca_client\n",
    "from bw_olca.exchange_types import ExchangeType\n",
    "import time"
   ]
  },
  {
   "cell_type": "code",
   "execution_count": 2,
   "id": "554d8f37",
   "metadata": {},
   "outputs": [],
   "source": [
    "#OLCAClient has parameters for url and port.\n",
    "#Defaults are url=\"http://localhost\" and port=8080\n",
    "client = olca_client.OLCAClient()"
   ]
  },
  {
   "cell_type": "code",
   "execution_count": 5,
   "id": "79c868ef",
   "metadata": {},
   "outputs": [],
   "source": [
    "types_list = [ExchangeType.PROCESS, ExchangeType.LOCATION, ExchangeType.UNIT_GROUP, ExchangeType.FLOW]"
   ]
  },
  {
   "cell_type": "code",
   "execution_count": 4,
   "id": "15c33549",
   "metadata": {},
   "outputs": [
    {
     "name": "stdout",
     "output_type": "stream",
     "text": [
      "ExchangeType.PROCESS\n",
      "ExchangeType.LOCATION\n",
      "ExchangeType.UNIT_GROUP\n",
      "ExchangeType.FLOW\n",
      "It took 590.2 seconds to extract all data\n"
     ]
    }
   ],
   "source": [
    "start = time.time()\n",
    "results = client.get_olca_database_by_type(types_list, verbose=True)\n",
    "print(\"It took {:.4} seconds to extract all data\".format(time.time() - start))"
   ]
  },
  {
   "cell_type": "code",
   "execution_count": 7,
   "id": "7704f8a8",
   "metadata": {},
   "outputs": [
    {
     "name": "stdout",
     "output_type": "stream",
     "text": [
      "processes\n",
      "614\n",
      "    Polyethylene low density granulate (PE-LD), production mix, at plant - 2020-04-22 16:03:13.274000+02:00\n",
      "    PET Bottle Filling - 2020-04-21 12:43:38.504000+02:00\n",
      "    PET Granulate Production - 2020-04-21 12:43:29.943000+02:00\n",
      "    PC Bottle Filling - 2020-04-21 12:43:12.638000+02:00\n",
      "    PC Granulate Production - 2020-04-21 12:42:55.609000+02:00\n",
      "    PC Transport A - 2020-04-21 12:40:43.998000+02:00\n",
      "    PET Transport A - 2020-04-21 12:31:12.186000+02:00\n",
      "    Dummy_excavated material - 2016-02-24 09:34:41.451000+01:00\n",
      "    Dummy_cargo - 2016-02-24 09:33:41.845000+01:00\n",
      "    Dummy_Water (desalinated; deionized) - 2016-02-23 18:19:50.901000+01:00\n",
      "locations\n",
      "472\n",
      "    Yemen - 1970-01-01 00:00:00+00:00\n",
      "    Tonga - 1970-01-01 00:00:00+00:00\n",
      "    EU candidate countries 2007 - 1970-01-01 00:00:00+00:00\n",
      "    Niue - 1970-01-01 00:00:00+00:00\n",
      "    Western Asia - 1970-01-01 00:00:00+00:00\n",
      "    Rwanda - 1970-01-01 00:00:00+00:00\n",
      "    Canada without Quebec - 1970-01-01 00:00:00+00:00\n",
      "    Kuwait - 1970-01-01 00:00:00+00:00\n",
      "    Australia and New Zealand - 1970-01-01 00:00:00+00:00\n",
      "    Europe without Austria, Belgium, France, Germany, Italy, Liechtenstein, Monaco, San Marino, Switzerland, and the Vatican - 1970-01-01 00:00:00+00:00\n",
      "unit_groups\n",
      "42\n",
      "    Units of area - 2020-04-21 11:57:59.318000+02:00\n",
      "    Units of volume - 2020-04-21 11:57:59.311000+02:00\n",
      "    Units of length - 2020-04-21 11:57:59.280000+02:00\n",
      "    Units of currency 2002 - 2016-02-23 19:01:15.053000+01:00\n",
      "    Units of person transport - 1970-01-01 00:00:00+00:00\n",
      "    Units of energy/mass*time - 1970-01-01 00:00:00+00:00\n",
      "    Units of length*time - 1970-01-01 00:00:00+00:00\n",
      "    Units of length*area - 1970-01-01 00:00:00+00:00\n",
      "    Units of mole*area/mass - 1970-01-01 00:00:00+00:00\n",
      "    Units of items*length - 1970-01-01 00:00:00+00:00\n",
      "flows\n",
      "62431\n",
      "    Water, embodied in product, RAS - 2020-04-21 11:57:57.938000+02:00\n",
      "    Water, embodied in product, GI - 2020-04-21 11:57:57.936000+02:00\n",
      "    Water, embodied in product, UG - 2020-04-21 11:57:57.934000+02:00\n",
      "    Water, embodied in product, KG - 2020-04-21 11:57:57.929000+02:00\n",
      "    Water, embodied in product, SR - 2020-04-21 11:57:57.927000+02:00\n",
      "    Water, embodied in product, VN - 2020-04-21 11:57:57.925000+02:00\n",
      "    Water, embodied in product, ET - 2020-04-21 11:57:57.921000+02:00\n",
      "    Water, embodied in product, CU - 2020-04-21 11:57:57.917000+02:00\n",
      "    Water, embodied in product, FK - 2020-04-21 11:57:57.913000+02:00\n",
      "    Water, embodied in product, BS - 2020-04-21 11:57:57.909000+02:00\n"
     ]
    }
   ],
   "source": [
    "# print top 10 results for each category with time stamps.\n",
    "for result in results:\n",
    "    print(result)\n",
    "    print(len(results[result]))\n",
    "    for i in range(10):\n",
    "        if \"lastChange\" in results[result][0].keys():\n",
    "            print(\"    {} - {}\".format(results[result][i][\"name\"], results[result][i][\"lastChange\"]))\n",
    "        else:\n",
    "            print(\"    {}\".format(results[result][i][\"name\"]))"
   ]
  },
  {
   "cell_type": "code",
   "execution_count": null,
   "id": "3e0b2933",
   "metadata": {},
   "outputs": [],
   "source": []
  }
 ],
 "metadata": {
  "kernelspec": {
   "display_name": "Python 3 (ipykernel)",
   "language": "python",
   "name": "python3"
  },
  "language_info": {
   "codemirror_mode": {
    "name": "ipython",
    "version": 3
   },
   "file_extension": ".py",
   "mimetype": "text/x-python",
   "name": "python",
   "nbconvert_exporter": "python",
   "pygments_lexer": "ipython3",
   "version": "3.9.6"
  }
 },
 "nbformat": 4,
 "nbformat_minor": 5
}
